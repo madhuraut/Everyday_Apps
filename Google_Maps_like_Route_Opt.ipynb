{
  "nbformat": 4,
  "nbformat_minor": 0,
  "metadata": {
    "colab": {
      "provenance": []
    },
    "kernelspec": {
      "name": "python3",
      "display_name": "Python 3"
    },
    "language_info": {
      "name": "python"
    }
  },
  "cells": [
    {
      "cell_type": "markdown",
      "source": [
        "# Build a Google Maps-like Route Optimization Algorithm"
      ],
      "metadata": {
        "id": "zoqwknqnUANL"
      }
    },
    {
      "cell_type": "code",
      "execution_count": 25,
      "metadata": {
        "id": "fb_yL8G7QP0N"
      },
      "outputs": [],
      "source": [
        "# Python module to implement Priority Queue\n",
        "\n",
        "import heapq"
      ]
    },
    {
      "cell_type": "markdown",
      "source": [
        "### Representing the city as a graph using Adjacency List"
      ],
      "metadata": {
        "id": "lnLn9kK7UgcH"
      }
    },
    {
      "cell_type": "code",
      "source": [
        "# Example Graph (Adjacency List)\n",
        "# Each tuple represents (neighbor, weight/distance)\n",
        "\n",
        "city_graph = {\n",
        "    'A': [('B', 4), ('C', 2)],\n",
        "    'B': [('A', 4), ('C', 1), ('D', 5)],\n",
        "    'C': [('A', 2), ('B', 1), ('D', 8), ('E', 10)],\n",
        "    'D': [('B', 5), ('C', 8), ('E', 2), ('F', 6)],\n",
        "    'E': [('C', 10), ('D', 2), ('F', 2)],\n",
        "    'F': [('D', 6), ('E', 2)]\n",
        "}"
      ],
      "metadata": {
        "id": "NLn6jdXBQiMs"
      },
      "execution_count": 26,
      "outputs": []
    },
    {
      "cell_type": "markdown",
      "source": [
        "### Optimal Route calculation using Dijkstra's Algorithm"
      ],
      "metadata": {
        "id": "OsoIbCFgUvh8"
      }
    },
    {
      "cell_type": "code",
      "source": [
        "# Function to implement Dijkstra's Algorithm\n",
        "\n",
        "def dijkstra(graph, start, end):\n",
        "    # Priority Queue to store (distance, node)\n",
        "    pq = [(0, start)]  # (distance from start, current node)\n",
        "    distances = {node: float('inf') for node in graph}\n",
        "    distances[start] = 0\n",
        "    visited = set()\n",
        "    previous_nodes = {node: None for node in graph}\n",
        "    while pq:\n",
        "        current_distance, current_node = heapq.heappop(pq)\n",
        "        if current_node in visited:\n",
        "            continue\n",
        "        visited.add(current_node)\n",
        "        if current_node == end:\n",
        "            break\n",
        "        for neighbor, weight in graph[current_node]:\n",
        "            distance = current_distance + weight\n",
        "            if distance < distances[neighbor]:\n",
        "                distances[neighbor] = distance\n",
        "                heapq.heappush(pq, (distance, neighbor))\n",
        "                previous_nodes[neighbor] = current_node\n",
        "    # Reconstruct the path\n",
        "    path = []\n",
        "    current = end\n",
        "    while current is not None:\n",
        "        path.append(current)\n",
        "        current = previous_nodes[current]\n",
        "    path.reverse()\n",
        "    return path, distances[end]"
      ],
      "metadata": {
        "id": "vDP1VbaYQaCE"
      },
      "execution_count": 27,
      "outputs": []
    },
    {
      "cell_type": "code",
      "source": [
        "# Test the function\n",
        "\n",
        "start = 'A'\n",
        "end = 'F'\n",
        "optimal_path, total_distance = dijkstra(city_graph, start, end)"
      ],
      "metadata": {
        "id": "ewv7EiD5Qk_V"
      },
      "execution_count": 28,
      "outputs": []
    },
    {
      "cell_type": "code",
      "source": [
        "# Optimized Route obtained\n",
        "\n",
        "print(\"Optimal Path:\", optimal_path)\n",
        "print(\"Total Distance:\", total_distance)"
      ],
      "metadata": {
        "colab": {
          "base_uri": "https://localhost:8080/"
        },
        "id": "P39n32ncQoMg",
        "outputId": "93d2cc48-4685-413b-87af-db64796cfb66"
      },
      "execution_count": 29,
      "outputs": [
        {
          "output_type": "stream",
          "name": "stdout",
          "text": [
            "Optimal Path: ['A', 'C', 'B', 'D', 'E', 'F']\n",
            "Total Distance: 12\n"
          ]
        }
      ]
    },
    {
      "cell_type": "markdown",
      "source": [
        "### Optimal Route calculation using A* Algorithm"
      ],
      "metadata": {
        "id": "6dlce5D3U9TL"
      }
    },
    {
      "cell_type": "code",
      "source": [
        "# Function to implement A* Algorithm\n",
        "\n",
        "def a_star(graph, start, end, heuristic):\n",
        "    # Priority Queue to store (cost, node)\n",
        "    pq = [(0 + heuristic[start], 0, start)]  # (estimated total cost, cost so far, current node)\n",
        "    distances = {node: float('inf') for node in graph}\n",
        "    distances[start] = 0\n",
        "    previous_nodes = {node: None for node in graph}\n",
        "    visited = set()\n",
        "    while pq:\n",
        "        estimated_cost, cost_so_far, current_node = heapq.heappop(pq)\n",
        "        if current_node in visited:\n",
        "            continue\n",
        "        visited.add(current_node)\n",
        "        if current_node == end:\n",
        "            break\n",
        "        for neighbor, weight in graph[current_node]:\n",
        "            new_cost = cost_so_far + weight\n",
        "            if new_cost < distances[neighbor]:\n",
        "                distances[neighbor] = new_cost\n",
        "                priority = new_cost + heuristic[neighbor]\n",
        "                heapq.heappush(pq, (priority, new_cost, neighbor))\n",
        "                previous_nodes[neighbor] = current_node\n",
        "    # Reconstruct the path\n",
        "    path = []\n",
        "    current = end\n",
        "    while current is not None:\n",
        "        path.append(current)\n",
        "        current = previous_nodes[current]\n",
        "    path.reverse()\n",
        "    return path, distances[end]"
      ],
      "metadata": {
        "id": "1WnJqawtQ4QH"
      },
      "execution_count": 30,
      "outputs": []
    },
    {
      "cell_type": "code",
      "source": [
        "# Example Heuristic (Straight-Line Distance to 'F')\n",
        "\n",
        "heuristic = {\n",
        "    'A': 10,\n",
        "    'B': 8,\n",
        "    'C': 6,\n",
        "    'D': 4,\n",
        "    'E': 2,\n",
        "    'F': 0\n",
        "}"
      ],
      "metadata": {
        "id": "GqHtsG1wRHC8"
      },
      "execution_count": 31,
      "outputs": []
    },
    {
      "cell_type": "code",
      "source": [
        "# Test the function\n",
        "\n",
        "start = 'A'\n",
        "end = 'F'\n",
        "optimal_path, total_distance = a_star(city_graph, start, end, heuristic)"
      ],
      "metadata": {
        "id": "OINQ9oW4RJ3K"
      },
      "execution_count": 32,
      "outputs": []
    },
    {
      "cell_type": "code",
      "source": [
        "# Optimized Route obtained\n",
        "\n",
        "print(\"Optimal Path:\", optimal_path)\n",
        "print(\"Total Distance:\", total_distance)"
      ],
      "metadata": {
        "colab": {
          "base_uri": "https://localhost:8080/"
        },
        "id": "JNoFqusJRMmJ",
        "outputId": "ef56e6da-a4af-4cc0-b762-e148e14ec8d2"
      },
      "execution_count": 33,
      "outputs": [
        {
          "output_type": "stream",
          "name": "stdout",
          "text": [
            "Optimal Path: ['A', 'C', 'B', 'D', 'E', 'F']\n",
            "Total Distance: 12\n"
          ]
        }
      ]
    }
  ]
}