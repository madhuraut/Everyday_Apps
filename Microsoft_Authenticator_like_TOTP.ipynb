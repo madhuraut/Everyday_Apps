{
  "nbformat": 4,
  "nbformat_minor": 0,
  "metadata": {
    "colab": {
      "provenance": []
    },
    "kernelspec": {
      "name": "python3",
      "display_name": "Python 3"
    },
    "language_info": {
      "name": "python"
    }
  },
  "cells": [
    {
      "cell_type": "markdown",
      "source": [
        "# Build a Microsoft Authenticator-like Time-based OTP Algorithm"
      ],
      "metadata": {
        "id": "7EEcre6uX6kb"
      }
    },
    {
      "cell_type": "code",
      "execution_count": 7,
      "metadata": {
        "id": "xxO6T_0NTDha"
      },
      "outputs": [],
      "source": [
        "# Required Python modules\n",
        "\n",
        "import time   # Generates time-based counters for TOTP\n",
        "import hmac   # Creates secure HMACs for OTP Generation\n",
        "import hashlib  # Provides SHA-1 Hashing for HMAC\n",
        "import base64   # Encodes and decodes the secret key\n",
        "import struct   # Converts hashed bytes into numeric OTPs"
      ]
    },
    {
      "cell_type": "markdown",
      "source": [
        "### Class containing the methods for TOTP Authenticator"
      ],
      "metadata": {
        "id": "PJH9YMz1YH8o"
      }
    },
    {
      "cell_type": "code",
      "source": [
        "class TOTPAuthenticator:\n",
        "\n",
        "    # Constructor & Key Storage - encoding the secret key using Base32 (shared during initial setup)\n",
        "    def __init__(self, secret_key, interval=30, digits=6):\n",
        "        self.secret_key = secret_key  # Base32-encoded key shared between the server and client for code generation and validation\n",
        "        self.interval = interval  # Time window (default = 30 seconds) for each code’s validity\n",
        "        self.digits = digits # Specifies the length of the generated OTP (default = 6 digits)\n",
        "        self.generated_codes = []  # Using array to store recent codes (simple queue)\n",
        "\n",
        "    # Hash Generation\n",
        "    def _generate_hmac(self, counter):\n",
        "        key = base64.b32decode(self.secret_key, True)   # Decode the secret key from Base32 to bytes\n",
        "        msg = struct.pack(\">Q\", counter)  # Convert the counter to bytes\n",
        "        hmac_hash = hmac.new(key, msg, hashlib.sha1).digest()   # Generate HMAC-SHA1 hash\n",
        "        return hmac_hash\n",
        "\n",
        "    # HMAC Generation, Dynamic Truncation, Circular Queue\n",
        "    def generate_code(self):\n",
        "        counter = int(time.time() // self.interval)   # Generate counter based on current time\n",
        "        hmac_hash = self._generate_hmac(counter)\n",
        "\n",
        "        # Dynamic Truncation (select 4 bytes)\n",
        "        offset = hmac_hash[-1] & 0x0F\n",
        "        truncated_hash = hmac_hash[offset:offset + 4]\n",
        "        code = struct.unpack(\">I\", truncated_hash)[0] & 0x7FFFFFFF\n",
        "\n",
        "        # Extract the desired number of digits\n",
        "        otp = str(code % (10 ** self.digits)).zfill(self.digits)\n",
        "\n",
        "        # Append to array (acts as circular queue for recent codes)\n",
        "        if len(self.generated_codes) >= 5:  # Store last 5 codes\n",
        "            self.generated_codes.pop(0)\n",
        "        self.generated_codes.append(otp)\n",
        "\n",
        "        return otp\n",
        "\n",
        "    # Code Validation\n",
        "    def validate_code(self, input_code):\n",
        "        # Allow slight time drift using recent codes\n",
        "        return input_code in self.generated_codes"
      ],
      "metadata": {
        "id": "ahN9elAWTLHA"
      },
      "execution_count": 8,
      "outputs": []
    },
    {
      "cell_type": "markdown",
      "source": [
        "### Test the TOTP Authenticator"
      ],
      "metadata": {
        "id": "DtAgJVv0-waz"
      }
    },
    {
      "cell_type": "code",
      "source": [
        "# Shared between the server and client during initial setup\n",
        "\n",
        "secret_key = 'JBSWY3DPEHPK3PXP'"
      ],
      "metadata": {
        "id": "oY7ZhhqITaD7"
      },
      "execution_count": 9,
      "outputs": []
    },
    {
      "cell_type": "code",
      "source": [
        "# Initialize Authenticator\n",
        "\n",
        "authenticator = TOTPAuthenticator(secret_key)"
      ],
      "metadata": {
        "id": "LacRlrFwTsCG"
      },
      "execution_count": 10,
      "outputs": []
    },
    {
      "cell_type": "code",
      "source": [
        "# Generate a code\n",
        "\n",
        "code = authenticator.generate_code()\n",
        "print(f\"Generated Code: {code}\")"
      ],
      "metadata": {
        "colab": {
          "base_uri": "https://localhost:8080/"
        },
        "id": "a7KVnqxOTuM7",
        "outputId": "d62ef6da-02fc-495c-a54c-09d371acfadc"
      },
      "execution_count": 11,
      "outputs": [
        {
          "output_type": "stream",
          "name": "stdout",
          "text": [
            "Generated Code: 242790\n"
          ]
        }
      ]
    },
    {
      "cell_type": "code",
      "source": [
        "# Validate the code\n",
        "\n",
        "user_input = input(\"Enter the code: \")\n",
        "\n",
        "if authenticator.validate_code(user_input):\n",
        "  print(\"Code is valid!\")\n",
        "else:\n",
        "  print(\"Invalid code!\")"
      ],
      "metadata": {
        "colab": {
          "base_uri": "https://localhost:8080/"
        },
        "id": "P9iU-NXUTvUN",
        "outputId": "d3fd69e3-94b3-405d-8987-7d0c36232aef"
      },
      "execution_count": 12,
      "outputs": [
        {
          "output_type": "stream",
          "name": "stdout",
          "text": [
            "Enter the code: 242790\n",
            "Code is valid!\n"
          ]
        }
      ]
    },
    {
      "cell_type": "code",
      "source": [],
      "metadata": {
        "id": "74KhtXbwT6AF"
      },
      "execution_count": 12,
      "outputs": []
    }
  ]
}